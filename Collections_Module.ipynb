{
 "cells": [
  {
   "cell_type": "code",
   "execution_count": 1,
   "id": "6dd69e9c-045c-4143-80b0-1ba8bef0e6aa",
   "metadata": {},
   "outputs": [],
   "source": [
    "# Collection Module\n",
    "from collections import Counter"
   ]
  },
  {
   "cell_type": "code",
   "execution_count": 4,
   "id": "08cd907e-adce-40a0-9678-621d47eda4ff",
   "metadata": {},
   "outputs": [],
   "source": [
    "mylist = [1,1,1,1,1,2,2,3,4,5,5,5,5]"
   ]
  },
  {
   "cell_type": "code",
   "execution_count": 5,
   "id": "bafabb2e-1763-4cfe-aaf4-7838e1f81e7f",
   "metadata": {},
   "outputs": [
    {
     "data": {
      "text/plain": [
       "Counter({1: 5, 5: 4, 2: 2, 3: 1, 4: 1})"
      ]
     },
     "execution_count": 5,
     "metadata": {},
     "output_type": "execute_result"
    }
   ],
   "source": [
    "Counter(mylist)"
   ]
  },
  {
   "cell_type": "code",
   "execution_count": 7,
   "id": "39887641-02be-49b2-8aff-095602bf5fab",
   "metadata": {},
   "outputs": [],
   "source": [
    "mylist1 = ['a','a','b','b','b']"
   ]
  },
  {
   "cell_type": "code",
   "execution_count": 8,
   "id": "cdad320f-e049-463d-9e01-fff4aec1984a",
   "metadata": {},
   "outputs": [
    {
     "data": {
      "text/plain": [
       "Counter({'b': 3, 'a': 2})"
      ]
     },
     "execution_count": 8,
     "metadata": {},
     "output_type": "execute_result"
    }
   ],
   "source": [
    "Counter(mylist1)"
   ]
  },
  {
   "cell_type": "code",
   "execution_count": 9,
   "id": "9d07de18-9d76-4f17-866d-07692b80d523",
   "metadata": {},
   "outputs": [
    {
     "data": {
      "text/plain": [
       "Counter({'a': 5, 'b': 4, 'l': 1})"
      ]
     },
     "execution_count": 9,
     "metadata": {},
     "output_type": "execute_result"
    }
   ],
   "source": [
    "Counter('aaaaabbbbl')"
   ]
  },
  {
   "cell_type": "code",
   "execution_count": 10,
   "id": "48bc0363-1a5c-45f0-900f-89b3c88206c7",
   "metadata": {},
   "outputs": [],
   "source": [
    "x = 'How many times we run this cell and how the result will turn out in the next cell'"
   ]
  },
  {
   "cell_type": "code",
   "execution_count": 14,
   "id": "a5bfbe10-d91a-4c0b-ab34-0b32b0418819",
   "metadata": {},
   "outputs": [
    {
     "data": {
      "text/plain": [
       "Counter({'cell': 2,\n",
       "         'the': 2,\n",
       "         'How': 1,\n",
       "         'many': 1,\n",
       "         'times': 1,\n",
       "         'we': 1,\n",
       "         'run': 1,\n",
       "         'this': 1,\n",
       "         'and': 1,\n",
       "         'how': 1,\n",
       "         'result': 1,\n",
       "         'will': 1,\n",
       "         'turn': 1,\n",
       "         'out': 1,\n",
       "         'in': 1,\n",
       "         'next': 1})"
      ]
     },
     "execution_count": 14,
     "metadata": {},
     "output_type": "execute_result"
    }
   ],
   "source": [
    "Counter(x.split())"
   ]
  },
  {
   "cell_type": "code",
   "execution_count": null,
   "id": "5b316f28-57c2-4ca2-8cb8-a511ab330858",
   "metadata": {},
   "outputs": [],
   "source": []
  },
  {
   "cell_type": "code",
   "execution_count": 19,
   "id": "e6fe32f8-8bbb-406e-9391-cd8206b8a4ca",
   "metadata": {},
   "outputs": [],
   "source": [
    "letters = 'aaaaaabbbbbbbcccccc'"
   ]
  },
  {
   "cell_type": "code",
   "execution_count": 20,
   "id": "b8eab0c4-0690-4f4c-a146-0b844b5107e2",
   "metadata": {},
   "outputs": [],
   "source": [
    "c = Counter(letters)"
   ]
  },
  {
   "cell_type": "code",
   "execution_count": 21,
   "id": "a56c5da7-b20f-431f-850f-620c488556b6",
   "metadata": {},
   "outputs": [
    {
     "data": {
      "text/plain": [
       "Counter({'b': 7, 'a': 6, 'c': 6})"
      ]
     },
     "execution_count": 21,
     "metadata": {},
     "output_type": "execute_result"
    }
   ],
   "source": [
    "c"
   ]
  },
  {
   "cell_type": "code",
   "execution_count": 23,
   "id": "a0c0fbe4-d71d-49e6-b41c-bf484635dc0d",
   "metadata": {},
   "outputs": [
    {
     "data": {
      "text/plain": [
       "[('b', 7)]"
      ]
     },
     "execution_count": 23,
     "metadata": {},
     "output_type": "execute_result"
    }
   ],
   "source": [
    "c.most_common(1)"
   ]
  },
  {
   "cell_type": "code",
   "execution_count": 24,
   "id": "b4879950-06c6-45e8-b0e1-000680fb868a",
   "metadata": {},
   "outputs": [
    {
     "data": {
      "text/plain": [
       "['a', 'b', 'c']"
      ]
     },
     "execution_count": 24,
     "metadata": {},
     "output_type": "execute_result"
    }
   ],
   "source": [
    "list(c)"
   ]
  },
  {
   "cell_type": "code",
   "execution_count": 25,
   "id": "5175f630-1e59-4adb-8a30-a5d0fe7e92bf",
   "metadata": {},
   "outputs": [],
   "source": [
    "from collections import defaultdict"
   ]
  },
  {
   "cell_type": "code",
   "execution_count": 26,
   "id": "a6f370e8-7c24-450e-a100-ff17dfbc521b",
   "metadata": {},
   "outputs": [],
   "source": [
    "d = {'a':10}"
   ]
  },
  {
   "cell_type": "code",
   "execution_count": 27,
   "id": "aea1343e-5a19-4520-aff4-40b49338e663",
   "metadata": {},
   "outputs": [
    {
     "data": {
      "text/plain": [
       "{'a': 10}"
      ]
     },
     "execution_count": 27,
     "metadata": {},
     "output_type": "execute_result"
    }
   ],
   "source": [
    "d"
   ]
  },
  {
   "cell_type": "code",
   "execution_count": 28,
   "id": "8b97432d-bf9e-4b37-b098-6292ab1c8e93",
   "metadata": {},
   "outputs": [
    {
     "data": {
      "text/plain": [
       "10"
      ]
     },
     "execution_count": 28,
     "metadata": {},
     "output_type": "execute_result"
    }
   ],
   "source": [
    "d['a']"
   ]
  },
  {
   "cell_type": "code",
   "execution_count": null,
   "id": "75d5c2b1-032e-4634-b955-9ca35d44eb82",
   "metadata": {},
   "outputs": [],
   "source": []
  },
  {
   "cell_type": "code",
   "execution_count": 30,
   "id": "13542f75-ff35-446e-8724-f0e6868f1849",
   "metadata": {},
   "outputs": [],
   "source": [
    "d = defaultdict(lambda: 0)"
   ]
  },
  {
   "cell_type": "code",
   "execution_count": 31,
   "id": "d561d546-66ec-423d-baf5-1f2e826d651a",
   "metadata": {},
   "outputs": [],
   "source": [
    "d['correct'] = 100"
   ]
  },
  {
   "cell_type": "code",
   "execution_count": 32,
   "id": "b4fbeb3b-209e-4cbb-bb6a-2bd3f0a2c84d",
   "metadata": {},
   "outputs": [
    {
     "data": {
      "text/plain": [
       "100"
      ]
     },
     "execution_count": 32,
     "metadata": {},
     "output_type": "execute_result"
    }
   ],
   "source": [
    "d['correct']"
   ]
  },
  {
   "cell_type": "code",
   "execution_count": 33,
   "id": "7bd9ba7a-66af-4158-989b-6817c3e5168d",
   "metadata": {},
   "outputs": [
    {
     "data": {
      "text/plain": [
       "defaultdict(<function __main__.<lambda>()>, {'correct': 100})"
      ]
     },
     "execution_count": 33,
     "metadata": {},
     "output_type": "execute_result"
    }
   ],
   "source": [
    "d"
   ]
  },
  {
   "cell_type": "code",
   "execution_count": 34,
   "id": "41473161-c3e5-4549-b977-f8e72b6afd8c",
   "metadata": {},
   "outputs": [],
   "source": [
    "mytuple = (10,20,30)"
   ]
  },
  {
   "cell_type": "code",
   "execution_count": 35,
   "id": "5e752feb-1c5a-48f5-89ec-a38350a67792",
   "metadata": {},
   "outputs": [
    {
     "data": {
      "text/plain": [
       "10"
      ]
     },
     "execution_count": 35,
     "metadata": {},
     "output_type": "execute_result"
    }
   ],
   "source": [
    "mytuple[0]"
   ]
  },
  {
   "cell_type": "code",
   "execution_count": 36,
   "id": "d2dd8b15-8f69-4ac1-a9d7-e3dcaa8c2297",
   "metadata": {},
   "outputs": [],
   "source": [
    "from collections import namedtuple"
   ]
  },
  {
   "cell_type": "code",
   "execution_count": 37,
   "id": "6922eda9-060f-4e2e-9fec-4e6fccab93d9",
   "metadata": {},
   "outputs": [],
   "source": [
    "Dog = namedtuple('Dog', ['age','breed','name'])"
   ]
  },
  {
   "cell_type": "code",
   "execution_count": 38,
   "id": "7bd5da31-f21b-4ed4-81b9-cf7a2749b310",
   "metadata": {},
   "outputs": [],
   "source": [
    "sammy = Dog(age=5,breed='Husky',name='Same')"
   ]
  },
  {
   "cell_type": "code",
   "execution_count": 39,
   "id": "88e00a86-4c31-4e16-a73c-0f97f29894cc",
   "metadata": {},
   "outputs": [
    {
     "data": {
      "text/plain": [
       "__main__.Dog"
      ]
     },
     "execution_count": 39,
     "metadata": {},
     "output_type": "execute_result"
    }
   ],
   "source": [
    "type(sammy)"
   ]
  },
  {
   "cell_type": "code",
   "execution_count": 40,
   "id": "7863513c-ab9b-4414-b264-5200c805051f",
   "metadata": {},
   "outputs": [
    {
     "data": {
      "text/plain": [
       "Dog(age=5, breed='Husky', name='Same')"
      ]
     },
     "execution_count": 40,
     "metadata": {},
     "output_type": "execute_result"
    }
   ],
   "source": [
    "sammy"
   ]
  },
  {
   "cell_type": "code",
   "execution_count": 41,
   "id": "0105ea77-af06-45db-8177-81c4fa9328c7",
   "metadata": {},
   "outputs": [
    {
     "data": {
      "text/plain": [
       "5"
      ]
     },
     "execution_count": 41,
     "metadata": {},
     "output_type": "execute_result"
    }
   ],
   "source": [
    "sammy.age"
   ]
  },
  {
   "cell_type": "code",
   "execution_count": 42,
   "id": "06185795-6361-49c6-832b-f9d3e927dbe5",
   "metadata": {},
   "outputs": [
    {
     "data": {
      "text/plain": [
       "'Husky'"
      ]
     },
     "execution_count": 42,
     "metadata": {},
     "output_type": "execute_result"
    }
   ],
   "source": [
    "sammy.breed"
   ]
  },
  {
   "cell_type": "code",
   "execution_count": 43,
   "id": "8b428baf-fbd7-4c40-abe8-e7cf800df832",
   "metadata": {},
   "outputs": [
    {
     "data": {
      "text/plain": [
       "'Same'"
      ]
     },
     "execution_count": 43,
     "metadata": {},
     "output_type": "execute_result"
    }
   ],
   "source": [
    "sammy.name"
   ]
  },
  {
   "cell_type": "code",
   "execution_count": null,
   "id": "faa469fe-488e-4b75-8603-30b7f0c12d30",
   "metadata": {},
   "outputs": [],
   "source": []
  }
 ],
 "metadata": {
  "kernelspec": {
   "display_name": "Python 3 (ipykernel)",
   "language": "python",
   "name": "python3"
  },
  "language_info": {
   "codemirror_mode": {
    "name": "ipython",
    "version": 3
   },
   "file_extension": ".py",
   "mimetype": "text/x-python",
   "name": "python",
   "nbconvert_exporter": "python",
   "pygments_lexer": "ipython3",
   "version": "3.12.3"
  }
 },
 "nbformat": 4,
 "nbformat_minor": 5
}
